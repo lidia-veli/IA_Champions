{
 "cells": [
  {
   "cell_type": "code",
   "execution_count": 1,
   "metadata": {},
   "outputs": [],
   "source": [
    "import pandas as pd"
   ]
  },
  {
   "cell_type": "markdown",
   "metadata": {},
   "source": [
    "## Equipos clasificados fases finales 2024"
   ]
  },
  {
   "cell_type": "code",
   "execution_count": 5,
   "metadata": {},
   "outputs": [
    {
     "data": {
      "text/html": [
       "<div>\n",
       "<style scoped>\n",
       "    .dataframe tbody tr th:only-of-type {\n",
       "        vertical-align: middle;\n",
       "    }\n",
       "\n",
       "    .dataframe tbody tr th {\n",
       "        vertical-align: top;\n",
       "    }\n",
       "\n",
       "    .dataframe thead th {\n",
       "        text-align: right;\n",
       "    }\n",
       "</style>\n",
       "<table border=\"1\" class=\"dataframe\">\n",
       "  <thead>\n",
       "    <tr style=\"text-align: right;\">\n",
       "      <th></th>\n",
       "      <th>Rk</th>\n",
       "      <th>Squad</th>\n",
       "      <th>MP</th>\n",
       "      <th>W</th>\n",
       "      <th>D</th>\n",
       "      <th>L</th>\n",
       "      <th>GF</th>\n",
       "      <th>GA</th>\n",
       "      <th>GD</th>\n",
       "      <th>Pts</th>\n",
       "      <th>Group</th>\n",
       "      <th>Year</th>\n",
       "    </tr>\n",
       "    <tr>\n",
       "      <th>Team_ID</th>\n",
       "      <th></th>\n",
       "      <th></th>\n",
       "      <th></th>\n",
       "      <th></th>\n",
       "      <th></th>\n",
       "      <th></th>\n",
       "      <th></th>\n",
       "      <th></th>\n",
       "      <th></th>\n",
       "      <th></th>\n",
       "      <th></th>\n",
       "      <th></th>\n",
       "    </tr>\n",
       "  </thead>\n",
       "  <tbody>\n",
       "    <tr>\n",
       "      <th>2</th>\n",
       "      <td>1</td>\n",
       "      <td>de Bayern Munich</td>\n",
       "      <td>6</td>\n",
       "      <td>5</td>\n",
       "      <td>1</td>\n",
       "      <td>0</td>\n",
       "      <td>12</td>\n",
       "      <td>6</td>\n",
       "      <td>6</td>\n",
       "      <td>16</td>\n",
       "      <td>A</td>\n",
       "      <td>2024</td>\n",
       "    </tr>\n",
       "    <tr>\n",
       "      <th>59</th>\n",
       "      <td>2</td>\n",
       "      <td>dk FC Copenhagen</td>\n",
       "      <td>6</td>\n",
       "      <td>2</td>\n",
       "      <td>2</td>\n",
       "      <td>2</td>\n",
       "      <td>8</td>\n",
       "      <td>8</td>\n",
       "      <td>0</td>\n",
       "      <td>8</td>\n",
       "      <td>A</td>\n",
       "      <td>2024</td>\n",
       "    </tr>\n",
       "    <tr>\n",
       "      <th>5</th>\n",
       "      <td>1</td>\n",
       "      <td>eng Arsenal</td>\n",
       "      <td>6</td>\n",
       "      <td>4</td>\n",
       "      <td>1</td>\n",
       "      <td>1</td>\n",
       "      <td>16</td>\n",
       "      <td>4</td>\n",
       "      <td>12</td>\n",
       "      <td>13</td>\n",
       "      <td>B</td>\n",
       "      <td>2024</td>\n",
       "    </tr>\n",
       "    <tr>\n",
       "      <th>11</th>\n",
       "      <td>2</td>\n",
       "      <td>nl PSV Eindhoven</td>\n",
       "      <td>6</td>\n",
       "      <td>2</td>\n",
       "      <td>3</td>\n",
       "      <td>1</td>\n",
       "      <td>8</td>\n",
       "      <td>10</td>\n",
       "      <td>-2</td>\n",
       "      <td>9</td>\n",
       "      <td>B</td>\n",
       "      <td>2024</td>\n",
       "    </tr>\n",
       "    <tr>\n",
       "      <th>21</th>\n",
       "      <td>1</td>\n",
       "      <td>es Real Madrid</td>\n",
       "      <td>6</td>\n",
       "      <td>6</td>\n",
       "      <td>0</td>\n",
       "      <td>0</td>\n",
       "      <td>16</td>\n",
       "      <td>7</td>\n",
       "      <td>9</td>\n",
       "      <td>18</td>\n",
       "      <td>C</td>\n",
       "      <td>2024</td>\n",
       "    </tr>\n",
       "    <tr>\n",
       "      <th>87</th>\n",
       "      <td>2</td>\n",
       "      <td>it Napoli</td>\n",
       "      <td>6</td>\n",
       "      <td>3</td>\n",
       "      <td>1</td>\n",
       "      <td>2</td>\n",
       "      <td>10</td>\n",
       "      <td>9</td>\n",
       "      <td>1</td>\n",
       "      <td>10</td>\n",
       "      <td>C</td>\n",
       "      <td>2024</td>\n",
       "    </tr>\n",
       "    <tr>\n",
       "      <th>14</th>\n",
       "      <td>1</td>\n",
       "      <td>es Real Sociedad</td>\n",
       "      <td>6</td>\n",
       "      <td>3</td>\n",
       "      <td>3</td>\n",
       "      <td>0</td>\n",
       "      <td>7</td>\n",
       "      <td>2</td>\n",
       "      <td>5</td>\n",
       "      <td>12</td>\n",
       "      <td>D</td>\n",
       "      <td>2024</td>\n",
       "    </tr>\n",
       "    <tr>\n",
       "      <th>7</th>\n",
       "      <td>2</td>\n",
       "      <td>it Inter</td>\n",
       "      <td>6</td>\n",
       "      <td>3</td>\n",
       "      <td>3</td>\n",
       "      <td>0</td>\n",
       "      <td>8</td>\n",
       "      <td>5</td>\n",
       "      <td>3</td>\n",
       "      <td>12</td>\n",
       "      <td>D</td>\n",
       "      <td>2024</td>\n",
       "    </tr>\n",
       "    <tr>\n",
       "      <th>66</th>\n",
       "      <td>1</td>\n",
       "      <td>es Atlético Madrid</td>\n",
       "      <td>6</td>\n",
       "      <td>4</td>\n",
       "      <td>2</td>\n",
       "      <td>0</td>\n",
       "      <td>17</td>\n",
       "      <td>6</td>\n",
       "      <td>11</td>\n",
       "      <td>14</td>\n",
       "      <td>E</td>\n",
       "      <td>2024</td>\n",
       "    </tr>\n",
       "    <tr>\n",
       "      <th>28</th>\n",
       "      <td>2</td>\n",
       "      <td>it Lazio</td>\n",
       "      <td>6</td>\n",
       "      <td>3</td>\n",
       "      <td>1</td>\n",
       "      <td>2</td>\n",
       "      <td>7</td>\n",
       "      <td>7</td>\n",
       "      <td>0</td>\n",
       "      <td>10</td>\n",
       "      <td>E</td>\n",
       "      <td>2024</td>\n",
       "    </tr>\n",
       "    <tr>\n",
       "      <th>93</th>\n",
       "      <td>1</td>\n",
       "      <td>de Dortmund</td>\n",
       "      <td>6</td>\n",
       "      <td>3</td>\n",
       "      <td>2</td>\n",
       "      <td>1</td>\n",
       "      <td>7</td>\n",
       "      <td>4</td>\n",
       "      <td>3</td>\n",
       "      <td>11</td>\n",
       "      <td>F</td>\n",
       "      <td>2024</td>\n",
       "    </tr>\n",
       "    <tr>\n",
       "      <th>44</th>\n",
       "      <td>2</td>\n",
       "      <td>fr Paris S-G</td>\n",
       "      <td>6</td>\n",
       "      <td>2</td>\n",
       "      <td>2</td>\n",
       "      <td>2</td>\n",
       "      <td>9</td>\n",
       "      <td>8</td>\n",
       "      <td>1</td>\n",
       "      <td>8</td>\n",
       "      <td>F</td>\n",
       "      <td>2024</td>\n",
       "    </tr>\n",
       "    <tr>\n",
       "      <th>88</th>\n",
       "      <td>1</td>\n",
       "      <td>eng Manchester City</td>\n",
       "      <td>6</td>\n",
       "      <td>6</td>\n",
       "      <td>0</td>\n",
       "      <td>0</td>\n",
       "      <td>18</td>\n",
       "      <td>7</td>\n",
       "      <td>11</td>\n",
       "      <td>18</td>\n",
       "      <td>G</td>\n",
       "      <td>2024</td>\n",
       "    </tr>\n",
       "    <tr>\n",
       "      <th>111</th>\n",
       "      <td>2</td>\n",
       "      <td>de RB Leipzig</td>\n",
       "      <td>6</td>\n",
       "      <td>4</td>\n",
       "      <td>0</td>\n",
       "      <td>2</td>\n",
       "      <td>13</td>\n",
       "      <td>10</td>\n",
       "      <td>3</td>\n",
       "      <td>12</td>\n",
       "      <td>G</td>\n",
       "      <td>2024</td>\n",
       "    </tr>\n",
       "    <tr>\n",
       "      <th>39</th>\n",
       "      <td>1</td>\n",
       "      <td>es Barcelona</td>\n",
       "      <td>6</td>\n",
       "      <td>4</td>\n",
       "      <td>0</td>\n",
       "      <td>2</td>\n",
       "      <td>12</td>\n",
       "      <td>6</td>\n",
       "      <td>6</td>\n",
       "      <td>12</td>\n",
       "      <td>H</td>\n",
       "      <td>2024</td>\n",
       "    </tr>\n",
       "    <tr>\n",
       "      <th>22</th>\n",
       "      <td>2</td>\n",
       "      <td>pt Porto</td>\n",
       "      <td>6</td>\n",
       "      <td>4</td>\n",
       "      <td>0</td>\n",
       "      <td>2</td>\n",
       "      <td>15</td>\n",
       "      <td>8</td>\n",
       "      <td>7</td>\n",
       "      <td>12</td>\n",
       "      <td>H</td>\n",
       "      <td>2024</td>\n",
       "    </tr>\n",
       "  </tbody>\n",
       "</table>\n",
       "</div>"
      ],
      "text/plain": [
       "         Rk                Squad  MP  W  D  L  GF  GA  GD  Pts Group  Year\n",
       "Team_ID                                                                   \n",
       "2         1     de Bayern Munich   6  5  1  0  12   6   6   16     A  2024\n",
       "59        2     dk FC Copenhagen   6  2  2  2   8   8   0    8     A  2024\n",
       "5         1          eng Arsenal   6  4  1  1  16   4  12   13     B  2024\n",
       "11        2     nl PSV Eindhoven   6  2  3  1   8  10  -2    9     B  2024\n",
       "21        1       es Real Madrid   6  6  0  0  16   7   9   18     C  2024\n",
       "87        2            it Napoli   6  3  1  2  10   9   1   10     C  2024\n",
       "14        1     es Real Sociedad   6  3  3  0   7   2   5   12     D  2024\n",
       "7         2             it Inter   6  3  3  0   8   5   3   12     D  2024\n",
       "66        1   es Atlético Madrid   6  4  2  0  17   6  11   14     E  2024\n",
       "28        2             it Lazio   6  3  1  2   7   7   0   10     E  2024\n",
       "93        1          de Dortmund   6  3  2  1   7   4   3   11     F  2024\n",
       "44        2         fr Paris S-G   6  2  2  2   9   8   1    8     F  2024\n",
       "88        1  eng Manchester City   6  6  0  0  18   7  11   18     G  2024\n",
       "111       2        de RB Leipzig   6  4  0  2  13  10   3   12     G  2024\n",
       "39        1         es Barcelona   6  4  0  2  12   6   6   12     H  2024\n",
       "22        2             pt Porto   6  4  0  2  15   8   7   12     H  2024"
      ]
     },
     "execution_count": 5,
     "metadata": {},
     "output_type": "execute_result"
    }
   ],
   "source": [
    "df_fg_24 = pd.read_csv('data/01_fase_grupos/UCL_FG_2024.csv')\n",
    "\n",
    "# seleccionamos los equipos clasificados a las fases finales\n",
    "df_clasif_24 = df_fg_24[ (df_fg_24['Rk'] == 1) | (df_fg_24['Rk'] == 2)]\n",
    "df_clasif_24.set_index('Team_ID', inplace=True)\n",
    "df_clasif_24"
   ]
  },
  {
   "cell_type": "code",
   "execution_count": 9,
   "metadata": {},
   "outputs": [
    {
     "name": "stdout",
     "output_type": "stream",
     "text": [
      "En total hay 16 equipos clasificados para las fases finales de la UCL 2023/24\n"
     ]
    }
   ],
   "source": [
    "equipos_clasif_24 = df_clasif_24.index.tolist()\n",
    "print(f'En total hay {len(equipos_clasif_24)} equipos clasificados para las fases finales de la UCL 2023/24')"
   ]
  },
  {
   "cell_type": "code",
   "execution_count": 35,
   "metadata": {},
   "outputs": [
    {
     "data": {
      "text/plain": [
       "['de Bayern Munich',\n",
       " 'dk FC Copenhagen',\n",
       " 'eng Arsenal',\n",
       " 'nl PSV Eindhoven',\n",
       " 'es Real Madrid',\n",
       " 'it Napoli',\n",
       " 'es Real Sociedad',\n",
       " 'it Inter',\n",
       " 'es Atlético Madrid',\n",
       " 'it Lazio',\n",
       " 'de Dortmund',\n",
       " 'fr Paris S-G',\n",
       " 'eng Manchester City',\n",
       " 'de RB Leipzig',\n",
       " 'es Barcelona',\n",
       " 'pt Porto']"
      ]
     },
     "execution_count": 35,
     "metadata": {},
     "output_type": "execute_result"
    }
   ],
   "source": [
    "df_clasif_24['Squad'].tolist()"
   ]
  },
  {
   "cell_type": "markdown",
   "metadata": {},
   "source": [
    "## Histórico Resultados UCL 2004 - 2023\n",
    "Antes de calcular la probabilidad veamos algunas estadíticas de los equipos."
   ]
  },
  {
   "cell_type": "code",
   "execution_count": 15,
   "metadata": {},
   "outputs": [],
   "source": [
    "# dataset historico clasificacion fase grupos\n",
    "df_fg = pd.read_csv('data/UCL_FG_comp_2004_2023.csv').set_index('Team_ID')\n",
    "\n",
    "# dataset historico clasificacion fases finales\n",
    "df_cf = pd.read_csv('data/UCL_CF_comp_2004_2023.csv').set_index('Team_ID')"
   ]
  },
  {
   "cell_type": "markdown",
   "metadata": {},
   "source": [
    "Obtenemos cuántas veces ha ganado cada equipo clasificado actualmente."
   ]
  },
  {
   "cell_type": "code",
   "execution_count": 17,
   "metadata": {},
   "outputs": [],
   "source": [
    "# reducimos los datasets a los equipos actualmente clasificados\n",
    "df_fg_interes = df_fg[df_fg.index.isin(equipos_clasif_24)]\n",
    "df_cf_interes = df_cf[df_cf.index.isin(equipos_clasif_24)]"
   ]
  },
  {
   "cell_type": "markdown",
   "metadata": {},
   "source": [
    "De los equipos clasificados actualmente, estos son los que han ganado alguna UCL desde el 2004"
   ]
  },
  {
   "cell_type": "code",
   "execution_count": 21,
   "metadata": {},
   "outputs": [
    {
     "data": {
      "text/plain": [
       "Squad\n",
       "es Real Madrid         5\n",
       "es Barcelona           4\n",
       "de Bayern Munich       2\n",
       "pt Porto               1\n",
       "it Inter               1\n",
       "eng Manchester City    1\n",
       "Name: count, dtype: int64"
      ]
     },
     "execution_count": 21,
     "metadata": {},
     "output_type": "execute_result"
    }
   ],
   "source": [
    "df_ganadores = df_cf_interes[df_cf_interes['Rk']==1]\n",
    "df_num_ganadores = df_ganadores['Squad'].value_counts()\n",
    "df_num_ganadores"
   ]
  },
  {
   "cell_type": "markdown",
   "metadata": {},
   "source": [
    "Veamos cuántas veces nuestros equipos de interés han participado en la UCL desde el 2004"
   ]
  },
  {
   "cell_type": "code",
   "execution_count": 26,
   "metadata": {},
   "outputs": [
    {
     "data": {
      "text/plain": [
       "Squad\n",
       "es Real Madrid         20\n",
       "de Bayern Munich       19\n",
       "es Barcelona           19\n",
       "pt Porto               18\n",
       "eng Arsenal            14\n",
       "it Inter               14\n",
       "fr Paris S-G           12\n",
       "es Atlético Madrid     12\n",
       "eng Manchester City    12\n",
       "de Dortmund            11\n",
       "nl PSV Eindhoven        9\n",
       "it Napoli               7\n",
       "dk FC Copenhagen        5\n",
       "de RB Leipzig           5\n",
       "it Lazio                3\n",
       "es Real Sociedad        2\n",
       "Name: count, dtype: int64"
      ]
     },
     "execution_count": 26,
     "metadata": {},
     "output_type": "execute_result"
    }
   ],
   "source": [
    "# numero de veces que nuestros equipos de interes han participado en el campeonato\n",
    "df_num_particip = df_fg_interes['Squad'].value_counts()\n",
    "df_num_particip"
   ]
  },
  {
   "cell_type": "code",
   "execution_count": 27,
   "metadata": {},
   "outputs": [
    {
     "data": {
      "text/plain": [
       "182"
      ]
     },
     "execution_count": 27,
     "metadata": {},
     "output_type": "execute_result"
    }
   ],
   "source": [
    "df_num_particip.sum()"
   ]
  },
  {
   "cell_type": "markdown",
   "metadata": {},
   "source": [
    "Veamos cuántas veces nuestros equipos de interés se han clasificado para las fases finales (octavos, cuartos, semis...) desde el 2004"
   ]
  },
  {
   "cell_type": "code",
   "execution_count": 22,
   "metadata": {},
   "outputs": [
    {
     "data": {
      "text/plain": [
       "Squad\n",
       "es Real Madrid         20\n",
       "de Bayern Munich       19\n",
       "es Barcelona           17\n",
       "eng Arsenal            14\n",
       "pt Porto               13\n",
       "fr Paris S-G           11\n",
       "it Inter               10\n",
       "eng Manchester City    10\n",
       "es Atlético Madrid      9\n",
       "de Dortmund             8\n",
       "nl PSV Eindhoven        4\n",
       "it Napoli               4\n",
       "de RB Leipzig           3\n",
       "es Real Sociedad        1\n",
       "dk FC Copenhagen        1\n",
       "it Lazio                1\n",
       "Name: count, dtype: int64"
      ]
     },
     "execution_count": 22,
     "metadata": {},
     "output_type": "execute_result"
    }
   ],
   "source": [
    "df_clasif_final = df_fg_interes[ (df_fg_interes['Rk']==1) | (df_fg_interes['Rk']==2) ]\n",
    "df_num_clasif_final = df_clasif_final['Squad'].value_counts()\n",
    "df_num_clasif_final"
   ]
  },
  {
   "cell_type": "code",
   "execution_count": 25,
   "metadata": {},
   "outputs": [
    {
     "data": {
      "text/plain": [
       "145"
      ]
     },
     "execution_count": 25,
     "metadata": {},
     "output_type": "execute_result"
    }
   ],
   "source": [
    "df_num_clasif_final.sum()"
   ]
  },
  {
   "cell_type": "markdown",
   "metadata": {},
   "source": [
    "## Cálculo de probabilidad\n",
    "Vamos a obtener la probabilidad de ganar la UCL de todos los equipos actualmente clasificados para las fases finales de la UCL 2024, basándonos en los resultados históricos de la UCL desde 2004 hasta 2023."
   ]
  },
  {
   "cell_type": "markdown",
   "metadata": {},
   "source": [
    "Para tener en cuenta el histórico de resultados en tempradas anteriores, vamos a asignar puntos a los equipo en función de hasta qué fase llegaron en cada temporada. Los puntos se asignarán de la siguiente manera:\n",
    "- si ha ganado la UCL: 6 puntos\n",
    "- si ha llegado a la final: 5 puntos\n",
    "- si ha llegado a semifinales: 4 puntos\n",
    "- si ha llegado a cuartos de final: 3 puntos\n",
    "- si ha llegado a octavos de final: 2 puntos\n",
    "- si ha participado en la fase de grupos: 1 punto"
   ]
  },
  {
   "cell_type": "code",
   "execution_count": 40,
   "metadata": {},
   "outputs": [],
   "source": [
    "stage_puntos = {\n",
    "    'W': 6,\n",
    "    'F': 5,\n",
    "    'SF': 4,\n",
    "    'QF': 3,\n",
    "    'R16': 2,\n",
    "    'GS': 1\n",
    "}"
   ]
  },
  {
   "cell_type": "code",
   "execution_count": 38,
   "metadata": {},
   "outputs": [
    {
     "name": "stderr",
     "output_type": "stream",
     "text": [
      "C:\\Users\\velir\\AppData\\Local\\Temp\\ipykernel_19424\\3447093208.py:17: SettingWithCopyWarning: \n",
      "A value is trying to be set on a copy of a slice from a DataFrame.\n",
      "Try using .loc[row_indexer,col_indexer] = value instead\n",
      "\n",
      "See the caveats in the documentation: https://pandas.pydata.org/pandas-docs/stable/user_guide/indexing.html#returning-a-view-versus-a-copy\n",
      "  df_cf_interes['Points'] = df_cf_interes['Stage'].map(stage_points)\n"
     ]
    },
    {
     "data": {
      "text/html": [
       "<div>\n",
       "<style scoped>\n",
       "    .dataframe tbody tr th:only-of-type {\n",
       "        vertical-align: middle;\n",
       "    }\n",
       "\n",
       "    .dataframe tbody tr th {\n",
       "        vertical-align: top;\n",
       "    }\n",
       "\n",
       "    .dataframe thead th {\n",
       "        text-align: right;\n",
       "    }\n",
       "</style>\n",
       "<table border=\"1\" class=\"dataframe\">\n",
       "  <thead>\n",
       "    <tr style=\"text-align: right;\">\n",
       "      <th></th>\n",
       "      <th>Squad</th>\n",
       "      <th>Points</th>\n",
       "      <th>Probability</th>\n",
       "    </tr>\n",
       "  </thead>\n",
       "  <tbody>\n",
       "    <tr>\n",
       "      <th>0</th>\n",
       "      <td>de Bayern Munich</td>\n",
       "      <td>67.0</td>\n",
       "      <td>0.152968</td>\n",
       "    </tr>\n",
       "    <tr>\n",
       "      <th>8</th>\n",
       "      <td>es Real Madrid</td>\n",
       "      <td>67.0</td>\n",
       "      <td>0.152968</td>\n",
       "    </tr>\n",
       "    <tr>\n",
       "      <th>7</th>\n",
       "      <td>es Barcelona</td>\n",
       "      <td>65.0</td>\n",
       "      <td>0.148402</td>\n",
       "    </tr>\n",
       "    <tr>\n",
       "      <th>4</th>\n",
       "      <td>eng Arsenal</td>\n",
       "      <td>36.0</td>\n",
       "      <td>0.082192</td>\n",
       "    </tr>\n",
       "    <tr>\n",
       "      <th>15</th>\n",
       "      <td>pt Porto</td>\n",
       "      <td>34.0</td>\n",
       "      <td>0.077626</td>\n",
       "    </tr>\n",
       "    <tr>\n",
       "      <th>10</th>\n",
       "      <td>fr Paris S-G</td>\n",
       "      <td>31.0</td>\n",
       "      <td>0.070776</td>\n",
       "    </tr>\n",
       "    <tr>\n",
       "      <th>6</th>\n",
       "      <td>es Atlético Madrid</td>\n",
       "      <td>29.0</td>\n",
       "      <td>0.066210</td>\n",
       "    </tr>\n",
       "    <tr>\n",
       "      <th>5</th>\n",
       "      <td>eng Manchester City</td>\n",
       "      <td>28.0</td>\n",
       "      <td>0.063927</td>\n",
       "    </tr>\n",
       "    <tr>\n",
       "      <th>11</th>\n",
       "      <td>it Inter</td>\n",
       "      <td>25.0</td>\n",
       "      <td>0.057078</td>\n",
       "    </tr>\n",
       "    <tr>\n",
       "      <th>1</th>\n",
       "      <td>de Dortmund</td>\n",
       "      <td>22.0</td>\n",
       "      <td>0.050228</td>\n",
       "    </tr>\n",
       "    <tr>\n",
       "      <th>14</th>\n",
       "      <td>nl PSV Eindhoven</td>\n",
       "      <td>11.0</td>\n",
       "      <td>0.025114</td>\n",
       "    </tr>\n",
       "    <tr>\n",
       "      <th>13</th>\n",
       "      <td>it Napoli</td>\n",
       "      <td>9.0</td>\n",
       "      <td>0.020548</td>\n",
       "    </tr>\n",
       "    <tr>\n",
       "      <th>2</th>\n",
       "      <td>de RB Leipzig</td>\n",
       "      <td>8.0</td>\n",
       "      <td>0.018265</td>\n",
       "    </tr>\n",
       "    <tr>\n",
       "      <th>3</th>\n",
       "      <td>dk FC Copenhagen</td>\n",
       "      <td>2.0</td>\n",
       "      <td>0.004566</td>\n",
       "    </tr>\n",
       "    <tr>\n",
       "      <th>9</th>\n",
       "      <td>es Real Sociedad</td>\n",
       "      <td>2.0</td>\n",
       "      <td>0.004566</td>\n",
       "    </tr>\n",
       "    <tr>\n",
       "      <th>12</th>\n",
       "      <td>it Lazio</td>\n",
       "      <td>2.0</td>\n",
       "      <td>0.004566</td>\n",
       "    </tr>\n",
       "  </tbody>\n",
       "</table>\n",
       "</div>"
      ],
      "text/plain": [
       "                  Squad  Points  Probability\n",
       "0      de Bayern Munich    67.0     0.152968\n",
       "8        es Real Madrid    67.0     0.152968\n",
       "7          es Barcelona    65.0     0.148402\n",
       "4           eng Arsenal    36.0     0.082192\n",
       "15             pt Porto    34.0     0.077626\n",
       "10         fr Paris S-G    31.0     0.070776\n",
       "6    es Atlético Madrid    29.0     0.066210\n",
       "5   eng Manchester City    28.0     0.063927\n",
       "11             it Inter    25.0     0.057078\n",
       "1           de Dortmund    22.0     0.050228\n",
       "14     nl PSV Eindhoven    11.0     0.025114\n",
       "13            it Napoli     9.0     0.020548\n",
       "2         de RB Leipzig     8.0     0.018265\n",
       "3      dk FC Copenhagen     2.0     0.004566\n",
       "9      es Real Sociedad     2.0     0.004566\n",
       "12             it Lazio     2.0     0.004566"
      ]
     },
     "execution_count": 38,
     "metadata": {},
     "output_type": "execute_result"
    }
   ],
   "source": [
    "# puntos de cada equipo\n",
    "df_cf_interes['Points'] = df_cf_interes['Stage'].map(stage_puntos)\n",
    "puntos_equipo = df_cf_interes.groupby('Squad')['Points'].sum().reset_index()\n",
    "\n",
    "# total puntos\n",
    "puntos_totales = puntos_equipo['Points'].sum()\n",
    "\n",
    "# Calcular la probabilidad de ganar para cada equipo\n",
    "puntos_equipo['Probability'] = puntos_equipo['Points'] / puntos_totales\n",
    "\n",
    "puntos_equipo.sort_values(by='Probability', ascending=False)"
   ]
  },
  {
   "cell_type": "code",
   "execution_count": 39,
   "metadata": {},
   "outputs": [
    {
     "data": {
      "text/plain": [
       "1.0"
      ]
     },
     "execution_count": 39,
     "metadata": {},
     "output_type": "execute_result"
    }
   ],
   "source": [
    "puntos_equipo['Probability'].sum()"
   ]
  },
  {
   "cell_type": "markdown",
   "metadata": {},
   "source": [
    "Los equipos con mayor probabilidad de ganar la UCL en 2024 son:\n",
    "- Bayern Munich con un 15.30%\n",
    "- Real Madrid con un 15.30%\n",
    "- Barcelona con un 14.84%"
   ]
  }
 ],
 "metadata": {
  "kernelspec": {
   "display_name": "IA_UCL",
   "language": "python",
   "name": "python3"
  },
  "language_info": {
   "codemirror_mode": {
    "name": "ipython",
    "version": 3
   },
   "file_extension": ".py",
   "mimetype": "text/x-python",
   "name": "python",
   "nbconvert_exporter": "python",
   "pygments_lexer": "ipython3",
   "version": "3.10.13"
  }
 },
 "nbformat": 4,
 "nbformat_minor": 2
}
