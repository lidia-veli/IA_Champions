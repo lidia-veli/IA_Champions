{
 "cells": [
  {
   "cell_type": "code",
   "execution_count": 13,
   "metadata": {},
   "outputs": [],
   "source": [
    "import pandas as pd"
   ]
  },
  {
   "cell_type": "code",
   "execution_count": 14,
   "metadata": {},
   "outputs": [
    {
     "name": "stdout",
     "output_type": "stream",
     "text": [
      "Archivo UCL_FF_2004.csv generado\n",
      "Archivo UCL_FF_2005.csv generado\n",
      "Archivo UCL_FF_2006.csv generado\n",
      "Archivo UCL_FF_2007.csv generado\n",
      "Archivo UCL_FF_2008.csv generado\n",
      "Archivo UCL_FF_2009.csv generado\n",
      "Archivo UCL_FF_2010.csv generado\n",
      "Archivo UCL_FF_2011.csv generado\n",
      "Archivo UCL_FF_2012.csv generado\n",
      "Archivo UCL_FF_2013.csv generado\n",
      "Archivo UCL_FF_2014.csv generado\n",
      "Archivo UCL_FF_2015.csv generado\n",
      "Archivo UCL_FF_2016.csv generado\n",
      "Archivo UCL_FF_2017.csv generado\n",
      "Archivo UCL_FF_2018.csv generado\n",
      "Archivo UCL_FF_2019.csv generado\n",
      "Archivo UCL_FF_2020.csv generado\n",
      "Archivo UCL_FF_2021.csv generado\n",
      "Archivo UCL_FF_2022.csv generado\n",
      "Archivo UCL_FF_2023.csv generado\n",
      "Proceso terminado\n"
     ]
    }
   ],
   "source": [
    "for temporada in range(2004, 2024):\n",
    "\n",
    "    # Carga de los archivos CSV\n",
    "    ucl_fg = pd.read_csv(f'../data/01_fase_grupos/UCL_FG_{temporada}.csv')\n",
    "    ucl_cf = pd.read_csv(f'../data/03_clasif_final/UCL_CF_{temporada}.csv')\n",
    "\n",
    "    # Asegurando que la columna 'Team_ID' y 'Year' sean del mismo tipo en ambos DataFrames para poder hacer un merge/join adecuado\n",
    "    ucl_fg['Team_ID'] = ucl_fg['Team_ID'].astype(int)\n",
    "    ucl_cf['Team_ID'] = ucl_cf['Team_ID'].astype(int)\n",
    "    ucl_fg['Year'] = ucl_fg['Year'].astype(int)\n",
    "    ucl_cf['Year'] = ucl_cf['Year'].astype(int)\n",
    "\n",
    "    # Uniendo los datos de la fase de grupos con los de la clasificación final\n",
    "    # basándonos en 'Team_ID' y 'Year' para obtener las diferencias\n",
    "    df_merged = pd.merge(ucl_fg, ucl_cf, on=['Team_ID', 'Year'], suffixes=('_fg', '_cf'))\n",
    "\n",
    "    # Calculando las diferencias en las columnas de interés\n",
    "    col_int = ['MP', 'W', 'D', 'L', 'GF', 'GA', 'GD', 'Pts']\n",
    "    for column in col_int:\n",
    "        df_merged[column + '_diff'] = df_merged[column + '_cf'] - df_merged[column + '_fg']\n",
    "\n",
    "    # Seleccionando las columnas resultantes y las identificadoras\n",
    "    col_finales = [col + '_diff' for col in col_int]\n",
    "    col_ident = ['Team_ID', 'Squad_cf', 'Year', 'Rk_cf']\n",
    "    df_final = df_merged[col_ident + col_finales]\n",
    "\n",
    "    # Renombrando las columnas para reflejar que son diferencias de la fase final respecto a la fase de grupos\n",
    "    df_final.columns = col_ident + col_int\n",
    "\n",
    "    df_final.set_index('Team_ID', inplace=True)\n",
    "\n",
    "    # generar el archivo CSV\n",
    "    df_final.to_csv(f'../data/02_fase_final/UCL_FF_{temporada}.csv')\n",
    "\n",
    "    print(f'Archivo UCL_FF_{temporada}.csv generado')\n",
    "\n",
    "print('Proceso terminado')"
   ]
  }
 ],
 "metadata": {
  "kernelspec": {
   "display_name": "IA_UCL",
   "language": "python",
   "name": "python3"
  },
  "language_info": {
   "codemirror_mode": {
    "name": "ipython",
    "version": 3
   },
   "file_extension": ".py",
   "mimetype": "text/x-python",
   "name": "python",
   "nbconvert_exporter": "python",
   "pygments_lexer": "ipython3",
   "version": "3.10.13"
  }
 },
 "nbformat": 4,
 "nbformat_minor": 2
}
