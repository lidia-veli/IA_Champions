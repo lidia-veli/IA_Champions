{
 "cells": [
  {
   "cell_type": "code",
   "execution_count": 30,
   "metadata": {},
   "outputs": [],
   "source": [
    "import pandas as pd\n",
    "import ScraperFC as sfc\n",
    "\n",
    "import warnings\n",
    "warnings.filterwarnings('ignore', category=UserWarning)"
   ]
  },
  {
   "cell_type": "code",
   "execution_count": 2,
   "metadata": {},
   "outputs": [],
   "source": [
    "# llamamos al scraper de la web FBRef\n",
    "scraper = sfc.FBRef()\n",
    "\n",
    "# variables\n",
    "columnas = ['Rk', 'Squad', 'MP', 'W', 'D', 'L', 'GF', 'GA', 'GD', 'Pts']\n",
    "letras = 'ABCDEFGH'  # para asignar el grupo"
   ]
  },
  {
   "cell_type": "code",
   "execution_count": 27,
   "metadata": {},
   "outputs": [],
   "source": [
    "dict_team_id = {}\n",
    "\n",
    "def check_id(team_name, dict=dict_team_id):\n",
    "    if team_name not in dict.keys():\n",
    "        return False\n",
    "    return True\n",
    "\n",
    "def get_id(team_name, dict=dict_team_id):\n",
    "    if not check_id(team_name, dict): # (not False==True) si no está en el diccionario\n",
    "        dict[team_name] = len(dict) + 1\n",
    "        return dict[team_name]\n",
    "    else:\n",
    "        return dict[team_name]"
   ]
  },
  {
   "cell_type": "code",
   "execution_count": 22,
   "metadata": {},
   "outputs": [
    {
     "data": {
      "text/plain": [
       "True"
      ]
     },
     "execution_count": 22,
     "metadata": {},
     "output_type": "execute_result"
    }
   ],
   "source": [
    "team_id = {'Barcelona':1}\n",
    "check_id('Barcelona', team_id)"
   ]
  },
  {
   "cell_type": "code",
   "execution_count": 23,
   "metadata": {},
   "outputs": [
    {
     "data": {
      "text/plain": [
       "False"
      ]
     },
     "execution_count": 23,
     "metadata": {},
     "output_type": "execute_result"
    }
   ],
   "source": [
    "check_id('Atletico', team_id)"
   ]
  },
  {
   "cell_type": "code",
   "execution_count": 26,
   "metadata": {},
   "outputs": [
    {
     "data": {
      "text/plain": [
       "2"
      ]
     },
     "execution_count": 26,
     "metadata": {},
     "output_type": "execute_result"
    }
   ],
   "source": [
    "get_id('Atletico', team_id)"
   ]
  },
  {
   "cell_type": "markdown",
   "metadata": {},
   "source": [
    "## Fase Grupos"
   ]
  },
  {
   "cell_type": "code",
   "execution_count": 29,
   "metadata": {},
   "outputs": [
    {
     "name": "stdout",
     "output_type": "stream",
     "text": [
      "Scraping 2004 Champions League league table\n"
     ]
    },
    {
     "name": "stdout",
     "output_type": "stream",
     "text": [
      "Dataset temporada 2004 guardado.\n",
      "\n",
      "\n",
      "Scraping 2005 Champions League league table\n",
      "Dataset temporada 2005 guardado.\n",
      "\n",
      "\n",
      "Scraping 2006 Champions League league table\n",
      "Dataset temporada 2006 guardado.\n",
      "\n",
      "\n",
      "Scraping 2007 Champions League league table\n",
      "Dataset temporada 2007 guardado.\n",
      "\n",
      "\n",
      "Scraping 2008 Champions League league table\n",
      "Dataset temporada 2008 guardado.\n",
      "\n",
      "\n",
      "Scraping 2009 Champions League league table\n",
      "Dataset temporada 2009 guardado.\n",
      "\n",
      "\n",
      "Scraping 2010 Champions League league table\n",
      "Dataset temporada 2010 guardado.\n",
      "\n",
      "\n",
      "Scraping 2011 Champions League league table\n",
      "Dataset temporada 2011 guardado.\n",
      "\n",
      "\n",
      "Scraping 2012 Champions League league table\n",
      "Dataset temporada 2012 guardado.\n",
      "\n",
      "\n",
      "Scraping 2013 Champions League league table\n",
      "Dataset temporada 2013 guardado.\n",
      "\n",
      "\n",
      "Scraping 2014 Champions League league table\n",
      "Dataset temporada 2014 guardado.\n",
      "\n",
      "\n",
      "Scraping 2015 Champions League league table\n",
      "Dataset temporada 2015 guardado.\n",
      "\n",
      "\n",
      "Scraping 2016 Champions League league table\n",
      "Dataset temporada 2016 guardado.\n",
      "\n",
      "\n",
      "Scraping 2017 Champions League league table\n",
      "Dataset temporada 2017 guardado.\n",
      "\n",
      "\n",
      "Scraping 2018 Champions League league table\n",
      "Dataset temporada 2018 guardado.\n",
      "\n",
      "\n",
      "Scraping 2019 Champions League league table\n",
      "Dataset temporada 2019 guardado.\n",
      "\n",
      "\n",
      "Scraping 2020 Champions League league table\n",
      "Dataset temporada 2020 guardado.\n",
      "\n",
      "\n",
      "Scraping 2021 Champions League league table\n",
      "Dataset temporada 2021 guardado.\n",
      "\n",
      "\n",
      "Scraping 2022 Champions League league table\n",
      "Dataset temporada 2022 guardado.\n",
      "\n",
      "\n",
      "Scraping 2023 Champions League league table\n",
      "Dataset temporada 2023 guardado.\n",
      "\n",
      "\n",
      "PROCESO FINALIZADO\n"
     ]
    }
   ],
   "source": [
    "for temporada in range(2004, 2024):\n",
    "    lista_grupos_temp = scraper.scrape_league_table(temporada, 'Champions League')\n",
    "\n",
    "    # seleccionamos solo los DataFrames de la fase de grupos\n",
    "    lista_fg_temp = lista_grupos_temp.copy()[0:8]\n",
    "\n",
    "    # para cada tabla de clasificación de los grupos\n",
    "    for i in range(8):\n",
    "        # nos quedamos solo con las columnas que nos interesan\n",
    "        lista_fg_temp[i] = lista_fg_temp[i].copy()[columnas]\n",
    "\n",
    "        # añadimos una columna con el grupo al que pertenecen\n",
    "        lista_fg_temp[i]['Group'] = letras[i]\n",
    "\n",
    "        # añadir columna de la temporada\n",
    "        lista_fg_temp[i]['Year'] = temporada\n",
    "\n",
    "        # asignar Team_ID por nombre del equipo\n",
    "        lista_fg_temp[i]['Team_ID'] = lista_fg_temp[i]['Squad'].apply(get_id)\n",
    "\n",
    "    # juntamos todos los DataFrames de la fase de grupos en uno solo\n",
    "    df_fg_temp = pd.concat(lista_fg_temp, ignore_index=True)\n",
    "\n",
    "    # establecemos el Team_ID como índice del DataFrame\n",
    "    df_fg_temp.set_index('Team_ID', inplace=True)\n",
    "\n",
    "    # guardar en un csv\n",
    "    df_fg_temp.to_csv(f'../data/01_fase_grupos/UCL_FG_{temporada}.csv')\n",
    "\n",
    "    print(f'Dataset temporada {temporada} guardado.')\n",
    "    print('\\n')\n",
    "\n",
    "print('PROCESO FINALIZADO')"
   ]
  },
  {
   "cell_type": "markdown",
   "metadata": {},
   "source": [
    "## Clasificación Final"
   ]
  },
  {
   "cell_type": "code",
   "execution_count": 5,
   "metadata": {},
   "outputs": [
    {
     "name": "stdout",
     "output_type": "stream",
     "text": [
      "Scraping 2004 Champions League league table\n",
      "Dataset temporada 2004 guardado.\n",
      "\n",
      "\n",
      "Scraping 2005 Champions League league table\n",
      "Dataset temporada 2005 guardado.\n",
      "\n",
      "\n",
      "Scraping 2006 Champions League league table\n",
      "Dataset temporada 2006 guardado.\n",
      "\n",
      "\n",
      "Scraping 2007 Champions League league table\n",
      "Dataset temporada 2007 guardado.\n",
      "\n",
      "\n",
      "Scraping 2008 Champions League league table\n",
      "Dataset temporada 2008 guardado.\n",
      "\n",
      "\n",
      "Scraping 2009 Champions League league table\n",
      "Dataset temporada 2009 guardado.\n",
      "\n",
      "\n",
      "Scraping 2010 Champions League league table\n",
      "Dataset temporada 2010 guardado.\n",
      "\n",
      "\n",
      "Scraping 2011 Champions League league table\n",
      "Dataset temporada 2011 guardado.\n",
      "\n",
      "\n",
      "Scraping 2012 Champions League league table\n",
      "Dataset temporada 2012 guardado.\n",
      "\n",
      "\n",
      "Scraping 2013 Champions League league table\n",
      "Dataset temporada 2013 guardado.\n",
      "\n",
      "\n",
      "Scraping 2014 Champions League league table\n",
      "Dataset temporada 2014 guardado.\n",
      "\n",
      "\n",
      "Scraping 2015 Champions League league table\n",
      "Dataset temporada 2015 guardado.\n",
      "\n",
      "\n",
      "Scraping 2016 Champions League league table\n",
      "Dataset temporada 2016 guardado.\n",
      "\n",
      "\n",
      "Scraping 2017 Champions League league table\n",
      "Dataset temporada 2017 guardado.\n",
      "\n",
      "\n",
      "Scraping 2018 Champions League league table\n",
      "Dataset temporada 2018 guardado.\n",
      "\n",
      "\n",
      "Scraping 2019 Champions League league table\n",
      "Dataset temporada 2019 guardado.\n",
      "\n",
      "\n",
      "Scraping 2020 Champions League league table\n",
      "Dataset temporada 2020 guardado.\n",
      "\n",
      "\n",
      "Scraping 2021 Champions League league table\n",
      "Dataset temporada 2021 guardado.\n",
      "\n",
      "\n",
      "Scraping 2022 Champions League league table\n",
      "Dataset temporada 2022 guardado.\n",
      "\n",
      "\n",
      "Scraping 2023 Champions League league table\n",
      "Dataset temporada 2023 guardado.\n",
      "\n",
      "\n",
      "PROCESO FINALIZADO\n"
     ]
    }
   ],
   "source": [
    "# iteramos sobre el rango de temporadas desde 2004 hasta 2023\n",
    "for temporada in range(2004, 2024):\n",
    "    lista_grupos_temp = scraper.scrape_league_table(temporada, 'Champions League')\n",
    "\n",
    "    # seleccionamos el último DataFrame de la lista\n",
    "    df_final = lista_grupos_temp[-1]\n",
    "\n",
    "    # nos quedamos con las columnas que nos interesan\n",
    "    df_final_clean = df_final.loc[:, columnas]\n",
    "\n",
    "    # quitamos los valores nulos\n",
    "    df_final_clean.dropna(inplace=True)\n",
    "\n",
    "    # añadir año\n",
    "    df_final_clean['Year'] = temporada\n",
    "\n",
    "    # Asignar Team_ID basado en el nombre del equipo\n",
    "    df_final_clean['Team_ID'] = df_final_clean['Squad'].apply(get_id)\n",
    "\n",
    "    # Rename the column 'Rk' to 'Stage'\n",
    "    df_final_clean.rename(columns={'Rk': 'Stage'}, inplace=True)\n",
    "\n",
    "    # ranking incremental\n",
    "    df_final_clean['Rk'] = range(1, len(df_final_clean) + 1)\n",
    "\n",
    "    # reordenar las columnas\n",
    "    df_final_clean = df_final_clean[['Team_ID', 'Rk', 'Stage', 'Squad', 'MP', 'W', 'D', 'L', 'GF', 'GA', 'GD', 'Pts', 'Year']]\n",
    "\n",
    "    # establecemos el Team_ID como índice del DataFrame\n",
    "    df_final_clean.set_index('Team_ID', inplace=True)\n",
    "\n",
    "    # guardar en CSV\n",
    "    df_final_clean.to_csv(f'../data/03_clasif_final/UCL_CF_{temporada}.csv')\n",
    "\n",
    "    print(f'Dataset temporada {temporada} guardado.')\n",
    "    print('\\n')\n",
    "\n",
    "print('PROCESO FINALIZADO')"
   ]
  },
  {
   "cell_type": "markdown",
   "metadata": {},
   "source": [
    "## 2024\n",
    "(sólo hay fase de grupos)"
   ]
  },
  {
   "cell_type": "code",
   "execution_count": 31,
   "metadata": {},
   "outputs": [
    {
     "name": "stdout",
     "output_type": "stream",
     "text": [
      "Scraping 2024 Champions League league table\n",
      "Dataset temporada 2024 guardado.\n"
     ]
    }
   ],
   "source": [
    "temporada = 2024\n",
    "\n",
    "lista_grupos_temp = scraper.scrape_league_table(temporada, 'Champions League')\n",
    "\n",
    "# seleccionamos solo los DataFrames de la fase de grupos\n",
    "lista_fg_temp = lista_grupos_temp.copy()[0:8]\n",
    "\n",
    "# para cada tabla de clasificación de los grupos\n",
    "for i in range(8):\n",
    "    # nos quedamos solo con las columnas que nos interesan\n",
    "    lista_fg_temp[i] = lista_fg_temp[i].copy()[columnas]\n",
    "\n",
    "    # añadimos una columna con el grupo al que pertenecen\n",
    "    lista_fg_temp[i]['Group'] = letras[i]\n",
    "\n",
    "    # añadir columna de la temporada\n",
    "    lista_fg_temp[i]['Year'] = temporada\n",
    "\n",
    "    # asignar Team_ID por nombre del equipo\n",
    "    lista_fg_temp[i]['Team_ID'] = lista_fg_temp[i]['Squad'].apply(get_id)\n",
    "\n",
    "# juntamos todos los DataFrames de la fase de grupos en uno solo\n",
    "df_fg_temp = pd.concat(lista_fg_temp, ignore_index=True)\n",
    "\n",
    "# establecemos el Team_ID como índice del DataFrame\n",
    "df_fg_temp.set_index('Team_ID', inplace=True)\n",
    "\n",
    "# guardar en un csv\n",
    "df_fg_temp.to_csv(f'../data/01_fase_grupos/UCL_FG_{temporada}.csv')\n",
    "\n",
    "print(f'Dataset temporada {temporada} guardado.')"
   ]
  }
 ],
 "metadata": {
  "kernelspec": {
   "display_name": "IA_UCL",
   "language": "python",
   "name": "python3"
  },
  "language_info": {
   "codemirror_mode": {
    "name": "ipython",
    "version": 3
   },
   "file_extension": ".py",
   "mimetype": "text/x-python",
   "name": "python",
   "nbconvert_exporter": "python",
   "pygments_lexer": "ipython3",
   "version": "3.10.13"
  }
 },
 "nbformat": 4,
 "nbformat_minor": 2
}
