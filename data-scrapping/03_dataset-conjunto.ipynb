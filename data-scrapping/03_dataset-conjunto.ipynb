{
 "cells": [
  {
   "cell_type": "code",
   "execution_count": 1,
   "metadata": {},
   "outputs": [],
   "source": [
    "import pandas as pd"
   ]
  },
  {
   "cell_type": "markdown",
   "metadata": {},
   "source": [
    "## Dataset conjunto Fase Grupos"
   ]
  },
  {
   "cell_type": "code",
   "execution_count": 3,
   "metadata": {},
   "outputs": [
    {
     "name": "stdout",
     "output_type": "stream",
     "text": [
      "csv temparada 2004 cargado\n",
      "csv temparada 2005 cargado\n",
      "csv temparada 2006 cargado\n",
      "csv temparada 2007 cargado\n",
      "csv temparada 2008 cargado\n",
      "csv temparada 2009 cargado\n",
      "csv temparada 2010 cargado\n",
      "csv temparada 2011 cargado\n",
      "csv temparada 2012 cargado\n",
      "csv temparada 2013 cargado\n",
      "csv temparada 2014 cargado\n",
      "csv temparada 2015 cargado\n",
      "csv temparada 2016 cargado\n",
      "csv temparada 2017 cargado\n",
      "csv temparada 2018 cargado\n",
      "csv temparada 2019 cargado\n",
      "csv temparada 2020 cargado\n",
      "csv temparada 2021 cargado\n",
      "csv temparada 2022 cargado\n",
      "csv temparada 2023 cargado\n"
     ]
    }
   ],
   "source": [
    "lista_df_fg = []\n",
    "\n",
    "# metemos los dataframes a la lista\n",
    "for temporada in range(2004, 2024):\n",
    "\n",
    "    # obtener dataframe\n",
    "    nombre_archivo = f'../data/01_fase_grupos/UCL_FG_{temporada}.csv'\n",
    "    df = pd.read_csv(nombre_archivo)\n",
    "\n",
    "    # añadir a la lista\n",
    "    lista_df_fg.append(df)\n",
    "\n",
    "    print(f'csv temporada {temporada} cargado')\n",
    "\n",
    "\n",
    "# los juntamos en un solo dataframe\n",
    "df_fg_concat = pd.concat(lista_df_fg)\n",
    "\n",
    "# indice por el id del equipo\n",
    "df_fg_concat.set_index('Team_ID', inplace=True)\n",
    "\n",
    "# guardar a csv\n",
    "df_fg_concat.to_csv('../data/UCL_FG_comp_2004_2023.csv')"
   ]
  },
  {
   "cell_type": "markdown",
   "metadata": {},
   "source": [
    "## Dataset conjunto Fases Finales"
   ]
  },
  {
   "cell_type": "code",
   "execution_count": 4,
   "metadata": {},
   "outputs": [
    {
     "name": "stdout",
     "output_type": "stream",
     "text": [
      "csv temporada 2004 cargado\n",
      "csv temporada 2005 cargado\n",
      "csv temporada 2006 cargado\n",
      "csv temporada 2007 cargado\n",
      "csv temporada 2008 cargado\n",
      "csv temporada 2009 cargado\n",
      "csv temporada 2010 cargado\n",
      "csv temporada 2011 cargado\n",
      "csv temporada 2012 cargado\n",
      "csv temporada 2013 cargado\n",
      "csv temporada 2014 cargado\n",
      "csv temporada 2015 cargado\n",
      "csv temporada 2016 cargado\n",
      "csv temporada 2017 cargado\n",
      "csv temporada 2018 cargado\n",
      "csv temporada 2019 cargado\n",
      "csv temporada 2020 cargado\n",
      "csv temporada 2021 cargado\n",
      "csv temporada 2022 cargado\n",
      "csv temporada 2023 cargado\n"
     ]
    }
   ],
   "source": [
    "lista_df_ff = []\n",
    "\n",
    "# metemos los dataframes a la lista\n",
    "for temporada in range(2004, 2024):\n",
    "\n",
    "    # obtener dataframe\n",
    "    nombre_archivo = f'../data/02_fase_final/UCL_FF_{temporada}.csv'\n",
    "    df = pd.read_csv(nombre_archivo)\n",
    "\n",
    "    # añadir a la lista\n",
    "    lista_df_ff.append(df)\n",
    "\n",
    "    print(f'csv temporada {temporada} cargado')\n",
    "\n",
    "\n",
    "# los juntamos en un solo dataframe\n",
    "df_ff_concat = pd.concat(lista_df_ff)\n",
    "\n",
    "# indice por el id del equipo\n",
    "df_ff_concat.set_index('Team_ID', inplace=True)\n",
    "\n",
    "# guardar a csv\n",
    "df_ff_concat.to_csv('../data/UCL_FF_comp_2004_2023.csv')"
   ]
  },
  {
   "cell_type": "markdown",
   "metadata": {},
   "source": [
    "## Dataset conjunto Clasificación Final"
   ]
  },
  {
   "cell_type": "code",
   "execution_count": 5,
   "metadata": {},
   "outputs": [
    {
     "name": "stdout",
     "output_type": "stream",
     "text": [
      "csv temporada 2004 cargado\n",
      "csv temporada 2005 cargado\n",
      "csv temporada 2006 cargado\n",
      "csv temporada 2007 cargado\n",
      "csv temporada 2008 cargado\n",
      "csv temporada 2009 cargado\n",
      "csv temporada 2010 cargado\n",
      "csv temporada 2011 cargado\n",
      "csv temporada 2012 cargado\n",
      "csv temporada 2013 cargado\n",
      "csv temporada 2014 cargado\n",
      "csv temporada 2015 cargado\n",
      "csv temporada 2016 cargado\n",
      "csv temporada 2017 cargado\n",
      "csv temporada 2018 cargado\n",
      "csv temporada 2019 cargado\n",
      "csv temporada 2020 cargado\n",
      "csv temporada 2021 cargado\n",
      "csv temporada 2022 cargado\n",
      "csv temporada 2023 cargado\n"
     ]
    }
   ],
   "source": [
    "lista_df_cf = []\n",
    "\n",
    "# metemos los dataframes a la lista\n",
    "for temporada in range(2004, 2024):\n",
    "\n",
    "    # obtener dataframe\n",
    "    nombre_archivo = f'../data/03_clasif_final/UCL_CF_{temporada}.csv'\n",
    "    df = pd.read_csv(nombre_archivo)\n",
    "\n",
    "    # añadir a la lista\n",
    "    lista_df_cf.append(df)\n",
    "\n",
    "    print(f'csv temporada {temporada} cargado')\n",
    "\n",
    "\n",
    "# los juntamos en un solo dataframe\n",
    "df_cf_concat = pd.concat(lista_df_cf)\n",
    "\n",
    "# indice por el id del equipo\n",
    "df_cf_concat.set_index('Team_ID', inplace=True)\n",
    "\n",
    "# guardar a csv\n",
    "df_cf_concat.to_csv('../data/UCL_CF_comp_2004_2023.csv')"
   ]
  }
 ],
 "metadata": {
  "kernelspec": {
   "display_name": "IA_UCL",
   "language": "python",
   "name": "python3"
  },
  "language_info": {
   "codemirror_mode": {
    "name": "ipython",
    "version": 3
   },
   "file_extension": ".py",
   "mimetype": "text/x-python",
   "name": "python",
   "nbconvert_exporter": "python",
   "pygments_lexer": "ipython3",
   "version": "3.10.13"
  }
 },
 "nbformat": 4,
 "nbformat_minor": 2
}
